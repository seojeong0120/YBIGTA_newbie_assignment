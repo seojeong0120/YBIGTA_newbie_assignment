{
 "cells": [
  {
   "cell_type": "markdown",
   "id": "e923ca8a-bd14-4111-b509-4ca4fe8dc974",
   "metadata": {},
   "source": [
    "# 1. Iris 데이터셋을 활용해 클래스별 변수 평균 차이를 검정"
   ]
  },
  {
   "cell_type": "markdown",
   "id": "2e18941a-a5c0-4e72-91b6-bc0194ff28e7",
   "metadata": {},
   "source": [
    "## 1-1. Iris 데이터셋 구조 확인"
   ]
  },
  {
   "cell_type": "code",
   "execution_count": 5,
   "id": "06218797-d797-4b00-be04-7a622f20d213",
   "metadata": {},
   "outputs": [],
   "source": [
    "import matplotlib.pyplot as plt\n",
    "import seaborn as sns\n",
    "import pandas as pd"
   ]
  },
  {
   "cell_type": "code",
   "execution_count": 7,
   "id": "35d409aa-b140-45e7-bf33-d40e4ab7d917",
   "metadata": {},
   "outputs": [],
   "source": [
    "iris = sns.load_dataset(\"iris\")"
   ]
  },
  {
   "cell_type": "code",
   "execution_count": 9,
   "id": "905dae91-7aa3-4cd2-932e-564cefddde56",
   "metadata": {},
   "outputs": [
    {
     "name": "stdout",
     "output_type": "stream",
     "text": [
      "   sepal_length  sepal_width  petal_length  petal_width species\n",
      "0           5.1          3.5           1.4          0.2  setosa\n",
      "1           4.9          3.0           1.4          0.2  setosa\n",
      "2           4.7          3.2           1.3          0.2  setosa\n",
      "3           4.6          3.1           1.5          0.2  setosa\n",
      "4           5.0          3.6           1.4          0.2  setosa\n"
     ]
    }
   ],
   "source": [
    "print(iris.head())"
   ]
  },
  {
   "cell_type": "code",
   "execution_count": 11,
   "id": "545942e6-8dcf-4da4-8d5a-e668c83af3e9",
   "metadata": {},
   "outputs": [
    {
     "name": "stdout",
     "output_type": "stream",
     "text": [
      "<class 'pandas.core.frame.DataFrame'>\n",
      "RangeIndex: 150 entries, 0 to 149\n",
      "Data columns (total 5 columns):\n",
      " #   Column        Non-Null Count  Dtype  \n",
      "---  ------        --------------  -----  \n",
      " 0   sepal_length  150 non-null    float64\n",
      " 1   sepal_width   150 non-null    float64\n",
      " 2   petal_length  150 non-null    float64\n",
      " 3   petal_width   150 non-null    float64\n",
      " 4   species       150 non-null    object \n",
      "dtypes: float64(4), object(1)\n",
      "memory usage: 6.0+ KB\n",
      "None\n"
     ]
    }
   ],
   "source": [
    "print(iris.info())"
   ]
  },
  {
   "cell_type": "markdown",
   "id": "33f13c4e-5241-466c-a40b-38126da65b06",
   "metadata": {},
   "source": [
    "## 1-2. 기술통계량 산출"
   ]
  },
  {
   "cell_type": "code",
   "execution_count": 14,
   "id": "89bef7d2-41cc-4142-900e-bb074703e130",
   "metadata": {},
   "outputs": [
    {
     "name": "stdout",
     "output_type": "stream",
     "text": [
      "       sepal_length  sepal_width  petal_length  petal_width\n",
      "count    150.000000   150.000000    150.000000   150.000000\n",
      "mean       5.843333     3.057333      3.758000     1.199333\n",
      "std        0.828066     0.435866      1.765298     0.762238\n",
      "min        4.300000     2.000000      1.000000     0.100000\n",
      "25%        5.100000     2.800000      1.600000     0.300000\n",
      "50%        5.800000     3.000000      4.350000     1.300000\n",
      "75%        6.400000     3.300000      5.100000     1.800000\n",
      "max        7.900000     4.400000      6.900000     2.500000\n"
     ]
    }
   ],
   "source": [
    "print(iris.describe())"
   ]
  },
  {
   "cell_type": "code",
   "execution_count": 16,
   "id": "22371b07-6542-419e-b279-9af1cd096202",
   "metadata": {},
   "outputs": [
    {
     "name": "stdout",
     "output_type": "stream",
     "text": [
      "            count   mean       std  min  25%   50%    75%  max\n",
      "species                                                       \n",
      "setosa       50.0  1.462  0.173664  1.0  1.4  1.50  1.575  1.9\n",
      "versicolor   50.0  4.260  0.469911  3.0  4.0  4.35  4.600  5.1\n",
      "virginica    50.0  5.552  0.551895  4.5  5.1  5.55  5.875  6.9\n"
     ]
    }
   ],
   "source": [
    "desc = iris.groupby(\"species\")[\"petal_length\"].describe()\n",
    "print(desc)"
   ]
  },
  {
   "cell_type": "markdown",
   "id": "e7b0c3e4-0249-4efd-89b8-13d84f6f43ba",
   "metadata": {},
   "source": [
    "## 1-3. 시각화"
   ]
  },
  {
   "cell_type": "code",
   "execution_count": 19,
   "id": "30970620-d7ee-43ff-a71b-4ede007a7c13",
   "metadata": {},
   "outputs": [
    {
     "data": {
      "image/png": "[encoded data removed]",
      "text/plain": [
       "<Figure size 640x480 with 1 Axes>"
      ]
     },
     "metadata": {},
     "output_type": "display_data"
    }
   ],
   "source": [
    "fig = plt.figure()\n",
    "sns.boxplot(x = \"species\", y = \"petal_length\", data = iris)\n",
    "plt.title(\"Distribution of petal length by species\")\n",
    "plt.xlabel(\"species\")\n",
    "plt.ylabel(\"petal length\")\n",
    "plt.show()"
   ]
  },
  {
   "cell_type": "markdown",
   "id": "e4c0c0bd-2fc5-40f1-91a8-5e497d15e765",
   "metadata": {},
   "source": [
    "## 1-4. 정규성 검정"
   ]
  },
  {
   "cell_type": "code",
   "execution_count": 22,
   "id": "e42bc088-e4e0-4d85-ae47-edd8ee0d5d4c",
   "metadata": {},
   "outputs": [],
   "source": [
    "from scipy.stats import shapiro"
   ]
  },
  {
   "cell_type": "code",
   "execution_count": 24,
   "id": "19419f53-05dd-4059-a438-8cb387d2a422",
   "metadata": {},
   "outputs": [
    {
     "name": "stdout",
     "output_type": "stream",
     "text": [
      "setosa: p-value = 0.0548\n",
      "versicolor: p-value = 0.1585\n",
      "virginica: p-value = 0.1098\n"
     ]
    }
   ],
   "source": [
    "for species in iris[\"species\"].unique():\n",
    "    data = iris[iris[\"species\"] == species][\"petal_length\"]\n",
    "    stat, p = shapiro(data)\n",
    "    print(f\"{species}: p-value = {p:.4f}\")"
   ]
  },
  {
   "cell_type": "markdown",
   "id": "976561d2-3818-49e9-abbd-78b39f228ffb",
   "metadata": {},
   "source": [
    "## 1-5. 등분산성 검정"
   ]
  },
  {
   "cell_type": "code",
   "execution_count": 27,
   "id": "be5e7c7b-fccd-4ad3-957d-927147411674",
   "metadata": {},
   "outputs": [
    {
     "name": "stdout",
     "output_type": "stream",
     "text": [
      "setosa variance: 0.030159183673469397\n",
      "versicolor variance: 0.22081632653061237\n",
      "virginica variance: 0.304587755102041\n"
     ]
    }
   ],
   "source": [
    "for s in iris['species'].unique():\n",
    "    print(f\"{s} variance:\", iris[iris['species']==s]['petal_length'].var())"
   ]
  },
  {
   "cell_type": "code",
   "execution_count": 29,
   "id": "c2b04b04-50fb-43a8-8af4-31d13cf91f26",
   "metadata": {},
   "outputs": [
    {
     "name": "stdout",
     "output_type": "stream",
     "text": [
      "Levene Test: stat=19.4803, p-value=0.0000\n"
     ]
    }
   ],
   "source": [
    "from scipy.stats import levene\n",
    "\n",
    "setosa = iris[iris['species'] == 'setosa']['petal_length']\n",
    "versicolor = iris[iris['species'] == 'versicolor']['petal_length']\n",
    "virginica = iris[iris['species'] == 'virginica']['petal_length']\n",
    "\n",
    "stat, p = levene(setosa, versicolor, virginica)\n",
    "print(f\"Levene Test: stat={stat:.4f}, p-value={p:.4f}\")"
   ]
  },
  {
   "cell_type": "markdown",
   "id": "2ace5af7-ffc9-404a-9894-03a150daaa40",
   "metadata": {},
   "source": [
    "## 1-6. 가설 수립\n",
    "\n",
    "- 본 분석에서는 Species에 따라 Petal Length의 평균에 차이가 있는지를 검정하기 위해 ANOVA를 실행한다.\n",
    "\n",
    "- 귀무가설 (H0): 3개 Species(setosa, versicolor, virginica) 간의 평균 Petal Length에 차이가 없다.\n",
    "\n",
    "- 대립가설 (H1): 적어도 한 Species의 평균 Petal Length는 나머지와 다르다."
   ]
  },
  {
   "cell_type": "markdown",
   "id": "54a21a1d-396b-4e57-8ddd-87dc832c4721",
   "metadata": {},
   "source": [
    "## 1-7. ANOVA 실행"
   ]
  },
  {
   "cell_type": "code",
   "execution_count": 33,
   "id": "955575dd-c2a2-474f-9af3-7058b9f8ceb2",
   "metadata": {},
   "outputs": [],
   "source": [
    "import statsmodels.api as sm\n",
    "from statsmodels.formula.api import ols"
   ]
  },
  {
   "cell_type": "code",
   "execution_count": 35,
   "id": "cdaff5f0-0d5e-4210-9939-c17d34e04dee",
   "metadata": {},
   "outputs": [
    {
     "name": "stdout",
     "output_type": "stream",
     "text": [
      "            sum_sq     df            F        PR(>F)\n",
      "species   437.1028    2.0  1180.161182  2.856777e-91\n",
      "Residual   27.2226  147.0          NaN           NaN\n"
     ]
    }
   ],
   "source": [
    "model = ols(\"petal_length ~ species\", data=iris).fit()\n",
    "anova_table = sm.stats.anova_lm(model, typ=2)\n",
    "print(anova_table)"
   ]
  },
  {
   "cell_type": "markdown",
   "id": "7c10e3b3-d14a-4dbd-b6e3-a6c71b5b3392",
   "metadata": {},
   "source": [
    "## 1-8. 사후검정"
   ]
  },
  {
   "cell_type": "code",
   "execution_count": 38,
   "id": "7569d71a-3823-48b6-bd1b-d0015868f863",
   "metadata": {},
   "outputs": [],
   "source": [
    "from statsmodels.stats.multicomp import pairwise_tukeyhsd"
   ]
  },
  {
   "cell_type": "code",
   "execution_count": 40,
   "id": "9b91d52e-3127-412e-8348-f5bb31d82c39",
   "metadata": {},
   "outputs": [
    {
     "name": "stdout",
     "output_type": "stream",
     "text": [
      "   Multiple Comparison of Means - Tukey HSD, FWER=0.50   \n",
      "=========================================================\n",
      "  group1     group2   meandiff p-adj lower  upper  reject\n",
      "---------------------------------------------------------\n",
      "    setosa versicolor    2.798   0.0 2.7011 2.8949   True\n",
      "    setosa  virginica     4.09   0.0 3.9931 4.1869   True\n",
      "versicolor  virginica    1.292   0.0 1.1951 1.3889   True\n",
      "---------------------------------------------------------\n"
     ]
    }
   ],
   "source": [
    "tukey = pairwise_tukeyhsd(endog=iris[\"petal_length\"], groups=iris[\"species\"], alpha=0.5)\n",
    "print(tukey)"
   ]
  },
  {
   "cell_type": "markdown",
   "id": "2385f6da-1b5d-4e42-ab7f-1791e4d0ba11",
   "metadata": {},
   "source": [
    "## 1-9. 결과 요약 및 결론\n",
    "\n",
    "Iris 데이터셋을 바탕으로 Species에 따라 Petal length에 차이가 있는지를 검정하였다.\n",
    "\n",
    "- Boxplot 시각화 결과, virginica의 Petal Length가 가장 길고, setosa의 Petal Length가 가장 짧은 것으로 나타났다.\n",
    "- One-way ANOVA 결과, 세 Species 간 평균 Petal Length에 통계적으로 유의미한 차이가 있었다.\n",
    "- 사후검정(Tukey's HSD)에서도 모든 그룹 쌍 간에 유의미한 차이가 존재함을 확인하였다.\n",
    "\n",
    "- 결론적으로 세 Species 간의 Petal Length는 통계적으로 유의미하게 다르다고 할 수 있다.\n",
    "- setosa < versicolor < virginica 순으로 꽃잎 길이가 길다고 할 수 있다."
   ]
  },
  {
   "cell_type": "markdown",
   "id": "8f65ab4b-7c95-4f96-a677-37431b9fe456",
   "metadata": {},
   "source": [
    "# 2. 실제 신용카드 사기 데이터셋을 활용해 클래스 불균형 상황에서 분류 모델을 학습"
   ]
  },
  {
   "cell_type": "markdown",
   "id": "5268d3b6-eb52-465f-a87a-aca12687a5bf",
   "metadata": {},
   "source": [
    "## 2-1. 데이터 로드 및 기본 탐색"
   ]
  },
  {
   "cell_type": "code",
   "execution_count": 45,
   "id": "b5a02b97-5322-41d9-8f6b-83f66e4c812c",
   "metadata": {},
   "outputs": [
    {
     "name": "stdout",
     "output_type": "stream",
     "text": [
      "Requirement already satisfied: scikit-learn in c:\\programdata\\anaconda3\\lib\\site-packages (1.2.2)\n",
      "Requirement already satisfied: numpy>=1.17.3 in c:\\programdata\\anaconda3\\lib\\site-packages (from scikit-learn) (1.26.3)\n",
      "Requirement already satisfied: scipy>=1.3.2 in c:\\programdata\\anaconda3\\lib\\site-packages (from scikit-learn) (1.13.1)\n",
      "Requirement already satisfied: joblib>=1.1.1 in c:\\programdata\\anaconda3\\lib\\site-packages (from scikit-learn) (1.4.2)\n",
      "Requirement already satisfied: threadpoolctl>=2.0.0 in c:\\programdata\\anaconda3\\lib\\site-packages (from scikit-learn) (3.5.0)\n"
     ]
    }
   ],
   "source": [
    "import pandas as pd\n",
    "!pip install scikit-learn"
   ]
  },
  {
   "cell_type": "code",
   "execution_count": 47,
   "id": "10f9ba67-5dce-46c7-86d2-d035ad6e425d",
   "metadata": {},
   "outputs": [],
   "source": [
    "df = pd.read_csv(\"creditcard.csv\")"
   ]
  },
  {
   "cell_type": "code",
   "execution_count": 49,
   "id": "c74fe1ab-0295-422b-b9ab-467779991cdb",
   "metadata": {},
   "outputs": [
    {
     "name": "stdout",
     "output_type": "stream",
     "text": [
      "   Time        V1        V2        V3        V4        V5        V6        V7  \\\n",
      "0   0.0 -1.359807 -0.072781  2.536347  1.378155 -0.338321  0.462388  0.239599   \n",
      "1   0.0  1.191857  0.266151  0.166480  0.448154  0.060018 -0.082361 -0.078803   \n",
      "2   1.0 -1.358354 -1.340163  1.773209  0.379780 -0.503198  1.800499  0.791461   \n",
      "3   1.0 -0.966272 -0.185226  1.792993 -0.863291 -0.010309  1.247203  0.237609   \n",
      "4   2.0 -1.158233  0.877737  1.548718  0.403034 -0.407193  0.095921  0.592941   \n",
      "\n",
      "         V8        V9  ...       V21       V22       V23       V24       V25  \\\n",
      "0  0.098698  0.363787  ... -0.018307  0.277838 -0.110474  0.066928  0.128539   \n",
      "1  0.085102 -0.255425  ... -0.225775 -0.638672  0.101288 -0.339846  0.167170   \n",
      "2  0.247676 -1.514654  ...  0.247998  0.771679  0.909412 -0.689281 -0.327642   \n",
      "3  0.377436 -1.387024  ... -0.108300  0.005274 -0.190321 -1.175575  0.647376   \n",
      "4 -0.270533  0.817739  ... -0.009431  0.798278 -0.137458  0.141267 -0.206010   \n",
      "\n",
      "        V26       V27       V28  Amount  Class  \n",
      "0 -0.189115  0.133558 -0.021053  149.62      0  \n",
      "1  0.125895 -0.008983  0.014724    2.69      0  \n",
      "2 -0.139097 -0.055353 -0.059752  378.66      0  \n",
      "3 -0.221929  0.062723  0.061458  123.50      0  \n",
      "4  0.502292  0.219422  0.215153   69.99      0  \n",
      "\n",
      "[5 rows x 31 columns]\n"
     ]
    }
   ],
   "source": [
    "print(df.head())"
   ]
  },
  {
   "cell_type": "code",
   "execution_count": 51,
   "id": "dabf0030-3ccf-4801-9af7-954114a9991f",
   "metadata": {},
   "outputs": [
    {
     "name": "stdout",
     "output_type": "stream",
     "text": [
      "<class 'pandas.core.frame.DataFrame'>\n",
      "RangeIndex: 284807 entries, 0 to 284806\n",
      "Data columns (total 31 columns):\n",
      " #   Column  Non-Null Count   Dtype  \n",
      "---  ------  --------------   -----  \n",
      " 0   Time    284807 non-null  float64\n",
      " 1   V1      284807 non-null  float64\n",
      " 2   V2      284807 non-null  float64\n",
      " 3   V3      284807 non-null  float64\n",
      " 4   V4      284807 non-null  float64\n",
      " 5   V5      284807 non-null  float64\n",
      " 6   V6      284807 non-null  float64\n",
      " 7   V7      284807 non-null  float64\n",
      " 8   V8      284807 non-null  float64\n",
      " 9   V9      284807 non-null  float64\n",
      " 10  V10     284807 non-null  float64\n",
      " 11  V11     284807 non-null  float64\n",
      " 12  V12     284807 non-null  float64\n",
      " 13  V13     284807 non-null  float64\n",
      " 14  V14     284807 non-null  float64\n",
      " 15  V15     284807 non-null  float64\n",
      " 16  V16     284807 non-null  float64\n",
      " 17  V17     284807 non-null  float64\n",
      " 18  V18     284807 non-null  float64\n",
      " 19  V19     284807 non-null  float64\n",
      " 20  V20     284807 non-null  float64\n",
      " 21  V21     284807 non-null  float64\n",
      " 22  V22     284807 non-null  float64\n",
      " 23  V23     284807 non-null  float64\n",
      " 24  V24     284807 non-null  float64\n",
      " 25  V25     284807 non-null  float64\n",
      " 26  V26     284807 non-null  float64\n",
      " 27  V27     284807 non-null  float64\n",
      " 28  V28     284807 non-null  float64\n",
      " 29  Amount  284807 non-null  float64\n",
      " 30  Class   284807 non-null  int64  \n",
      "dtypes: float64(30), int64(1)\n",
      "memory usage: 67.4 MB\n",
      "None\n"
     ]
    }
   ],
   "source": [
    "print(df.info())"
   ]
  },
  {
   "cell_type": "code",
   "execution_count": 53,
   "id": "5389b76c-d2ea-44b7-9d64-c06904a31b1f",
   "metadata": {},
   "outputs": [
    {
     "name": "stdout",
     "output_type": "stream",
     "text": [
      "Class\n",
      "0    0.998273\n",
      "1    0.001727\n",
      "Name: proportion, dtype: float64\n"
     ]
    }
   ],
   "source": [
    "print(df[\"Class\"].value_counts(normalize=True))"
   ]
  },
  {
   "cell_type": "markdown",
   "id": "6314ecfb-719e-4972-a029-b59cb070ae35",
   "metadata": {},
   "source": [
    "- 사기거래(Class=1)의 비율이 0.1% 이하로 매우 적음을 확인"
   ]
  },
  {
   "cell_type": "markdown",
   "id": "5f11d900-8694-44cf-a87f-911c48fd5005",
   "metadata": {},
   "source": [
    "## 2-2. 샘플링"
   ]
  },
  {
   "cell_type": "code",
   "execution_count": 57,
   "id": "e13d549a-2d35-42fc-9435-2bd68545d553",
   "metadata": {},
   "outputs": [
    {
     "name": "stdout",
     "output_type": "stream",
     "text": [
      "Class\n",
      "0    0.953107\n",
      "1    0.046893\n",
      "Name: proportion, dtype: float64\n"
     ]
    }
   ],
   "source": [
    "fraud = df[df[\"Class\"] == 1]\n",
    "normal = df[df[\"Class\"] == 0].sample(n=10000, random_state=42)\n",
    "\n",
    "df_sampled = pd.concat([fraud, normal])\n",
    "print(df_sampled[\"Class\"].value_counts(normalize=True))"
   ]
  },
  {
   "cell_type": "markdown",
   "id": "cef19ee7-8f10-4652-b990-208f1526a6bc",
   "metadata": {},
   "source": [
    "## 2-3. 데이터 전처리"
   ]
  },
  {
   "cell_type": "code",
   "execution_count": 59,
   "id": "a935ea42-2907-4dd6-b644-bb2ee667f7da",
   "metadata": {},
   "outputs": [],
   "source": [
    "from sklearn.preprocessing import StandardScaler\n",
    "\n",
    "scaler = StandardScaler()\n",
    "df_sampled[\"Amount_Scaled\"] = scaler.fit_transform(df_sampled[[\"Amount\"]])\n",
    "df_sampled.drop(columns=\"Amount\", inplace=True)\n",
    "\n",
    "X = df_sampled.drop(columns=\"Class\")\n",
    "y = df_sampled[\"Class\"]"
   ]
  },
  {
   "cell_type": "markdown",
   "id": "c76ea5be-412c-41d8-a388-8831c52bb5d6",
   "metadata": {},
   "source": [
    "## 2-4. 학습 데이터와 테스트 데이터 분할"
   ]
  },
  {
   "cell_type": "code",
   "execution_count": 61,
   "id": "028ee0df-3005-481f-95bb-e75c5801564e",
   "metadata": {},
   "outputs": [
    {
     "name": "stdout",
     "output_type": "stream",
     "text": [
      "Class\n",
      "0    0.953056\n",
      "1    0.046944\n",
      "Name: proportion, dtype: float64\n",
      "Class\n",
      "0    0.953311\n",
      "1    0.046689\n",
      "Name: proportion, dtype: float64\n"
     ]
    }
   ],
   "source": [
    "from sklearn.model_selection import train_test_split\n",
    "\n",
    "X_train, X_test, y_train, y_test = train_test_split(X, y, test_size=0.2, stratify=y, random_state=42)\n",
    "\n",
    "print(y_train.value_counts(normalize=True))\n",
    "print(y_test.value_counts(normalize=True))"
   ]
  },
  {
   "cell_type": "markdown",
   "id": "e7841c35-f6c4-4372-b3e1-6c8e7c4dea7a",
   "metadata": {},
   "source": [
    "## 2-5. SMOTE 적용"
   ]
  },
  {
   "cell_type": "code",
   "execution_count": 63,
   "id": "016d8815-bea1-4c7c-908d-e37e87935842",
   "metadata": {},
   "outputs": [
    {
     "name": "stdout",
     "output_type": "stream",
     "text": [
      "Class\n",
      "0    7999\n",
      "1     394\n",
      "Name: count, dtype: int64 Class\n",
      "0    7999\n",
      "1    7999\n",
      "Name: count, dtype: int64\n"
     ]
    }
   ],
   "source": [
    "from imblearn.over_sampling import SMOTE\n",
    "\n",
    "smote = SMOTE(random_state=42)\n",
    "X_train_res, y_train_res = smote.fit_resample(X_train, y_train)\n",
    "\n",
    "print(y_train.value_counts(), y_train_res.value_counts())"
   ]
  },
  {
   "cell_type": "markdown",
   "id": "39aa1d73-ad42-4605-adfb-0bc8ee2812f7",
   "metadata": {},
   "source": [
    "- SMOTE 적용이 필요한 이유: SMOTE는 소수 클래스(사기 거래)의 synthetic 데이터를 생성해 다수 클래스와의 불균형을 완화하여 모델이 소수 클래스(사기 거래)를 더 잘 학습할 수 있게 해준다."
   ]
  },
  {
   "cell_type": "markdown",
   "id": "5c0ef93f-da4c-4e98-a53d-5090b2fad7f4",
   "metadata": {},
   "source": [
    "## 2-5. 모델 학습 및 예측"
   ]
  },
  {
   "cell_type": "code",
   "execution_count": 67,
   "id": "0a800a6e-b096-47d0-a22e-5b07c4c0b4ac",
   "metadata": {},
   "outputs": [],
   "source": [
    "from sklearn.ensemble import RandomForestClassifier\n",
    "from sklearn.metrics import classification_report, average_precision_score, precision_recall_fscore_support\n",
    "\n",
    "model = RandomForestClassifier(random_state=42)\n",
    "model.fit(X_train_res, y_train_res)\n",
    "\n",
    "y_pred = model.predict(X_test)\n",
    "y_prob = model.predict_proba(X_test)[:, 1]"
   ]
  },
  {
   "cell_type": "code",
   "execution_count": 69,
   "id": "5fa25000-9a25-4155-b672-b5b829640b3f",
   "metadata": {},
   "outputs": [
    {
     "name": "stdout",
     "output_type": "stream",
     "text": [
      "=== Classification Report ===\n",
      "              precision    recall  f1-score   support\n",
      "\n",
      "           0       0.99      1.00      1.00      2001\n",
      "           1       0.95      0.89      0.92        98\n",
      "\n",
      "    accuracy                           0.99      2099\n",
      "   macro avg       0.97      0.94      0.96      2099\n",
      "weighted avg       0.99      0.99      0.99      2099\n",
      "\n",
      "\n",
      "\n",
      "Class 0 Recall: 0.9975, F1-score: 0.9960\n",
      "Class 1 Recall: 0.8878, F1-score: 0.9158\n",
      "\n",
      "\n",
      "Class 1 PR-AUC: 0.9537\n"
     ]
    }
   ],
   "source": [
    "# 출력\n",
    "print(\"=== Classification Report ===\")\n",
    "print(classification_report(y_test, y_pred))\n",
    "\n",
    "print(\"\\n\")\n",
    "precision, recall, f1, _ = precision_recall_fscore_support(y_test, y_pred)\n",
    "print(f\"Class 0 Recall: {recall[0]:.4f}, F1-score: {f1[0]:.4f}\")\n",
    "print(f\"Class 1 Recall: {recall[1]:.4f}, F1-score: {f1[1]:.4f}\")\n",
    "\n",
    "print(\"\\n\")\n",
    "pr_auc = average_precision_score(y_test, y_prob)\n",
    "print(f\"Class 1 PR-AUC: {pr_auc:.4f}\")"
   ]
  },
  {
   "cell_type": "markdown",
   "id": "b6266cc4-8ed9-43b5-97f2-ac009dee6718",
   "metadata": {},
   "source": [
    "##  2-7. 최종 성능 평가\n",
    "\n",
    "- 최종적으로 Random Forest 모델을 사용하여 사기 거래(Class = 1)를 탐지하는 분류기를 학습하였다. SMOTE를 통해 학습 데이터에서 클래스 불균형을 해소한 다음, 모델을 평가하였다.\n",
    "\n",
    "- 테스트셋에서의 모델 성능은 다음과 같다.\n",
    "    - Class 1 (사기거래)\n",
    "        -  Recall: 0.8878\n",
    "        -  F1-score: 0.9158\n",
    "        -  PR-AUC: 0.9537\n",
    "\n",
    "    - Class 0 (정상 거래)\n",
    "        - Recall: 0.9975\n",
    "        - F1-score: 0.9960\n",
    "\n",
    "- 위 결과를 통해 목표로 설정한 세 가지 기준을 모두 충족함을 확인하였다.\n",
    "\n",
    "- 모델은 실제 사기 거래를 높은 비율로 탐지하면서도 False Positive를 최소화하여 전체적인 분류 성능이 우수하다고 판단된다. 특히 PR-AUC가 0.95 이상으로 나온 점으로 봤을 때, 모델이 불균형 데이터 상황에서도 안정적으로 Precision-Recall trade-off를 처리했음을 보여준다.\n",
    "\n",
    "- 따라서 본 모델은 실제 금융 사기 거래 탐지 시스템에 적용 가능한 수준의 성능을 보여주었다고 결론지을 수 있다."
   ]
  }
 ],
 "metadata": {
  "kernelspec": {
   "display_name": "Python [conda env:base] *",
   "language": "python",
   "name": "conda-base-py"
  },
  "language_info": {
   "codemirror_mode": {
    "name": "ipython",
    "version": 3
   },
   "file_extension": ".py",
   "mimetype": "text/x-python",
   "name": "python",
   "nbconvert_exporter": "python",
   "pygments_lexer": "ipython3",
   "version": "3.12.7"
  }
 },
 "nbformat": 4,
 "nbformat_minor": 5
}
